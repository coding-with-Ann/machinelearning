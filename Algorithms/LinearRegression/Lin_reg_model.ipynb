{
 "cells": [
  {
   "cell_type": "code",
   "execution_count": 1,
   "metadata": {},
   "outputs": [],
   "source": [
    "class Linear_Regression():\n",
    "\n",
    "   def __init__( self, learning_rate, no_of_iterations ) :\n",
    "        # initiating the parameters (learning rate & no. of iterations)\n",
    "        self.learning_rate = learning_rate\n",
    "        self.no_of_iterations = no_of_iterations\n",
    "\n",
    "     # fit function to train the model\n",
    "   def fit( self, X, Y ) :  # x is input and y is o/p\n",
    "\n",
    "        # no_of_training_examples, no_of_features\n",
    "        self.m, self.n = X.shape  \n",
    "        # 'm' is number of training examples(no of rows) & 'n' is no of features\n",
    "\n",
    "        # initiating the weight and bias\n",
    "        self.w = np.zeros( self.n ) #each feature has a weight associated with it\n",
    "\n",
    "        self.b = 0   #model has only one bias value\n",
    "\n",
    "        self.X = X\n",
    "\n",
    "        self.Y = Y\n",
    "\n",
    "\n",
    "        # implementing Gradient Descent for Optimization\n",
    "\n",
    "        for i in range( self.no_of_iterations ) :\n",
    "\n",
    "            self.update_weights()\n",
    "\n",
    "\n",
    "\n",
    "    # function to update weights in gradient descent\n",
    "\n",
    "   def update_weights( self ) :\n",
    "\n",
    "        Y_prediction = self.predict( self.X )\n",
    "\n",
    "        # calculate gradients\n",
    "\n",
    "        dw = - ( 2 * ( self.X.T ).dot( self.Y - Y_prediction )  ) / self.m\n",
    "\n",
    "        db = - 2 * np.sum( self.Y - Y_prediction ) / self.m\n",
    "\n",
    "        # updating the weights\n",
    "\n",
    "        self.w = self.w - self.learning_rate * dw\n",
    "\n",
    "        self.b = self.b - self.learning_rate * db\n",
    "\n",
    "\n",
    "    # Line function for prediction:\n",
    "\n",
    "   def predict( self, X ) :\n",
    "\n",
    "        return X.dot( self.w ) + self.b\n"
   ]
  }
 ],
 "metadata": {
  "kernelspec": {
   "display_name": "Python 3",
   "language": "python",
   "name": "python3"
  },
  "language_info": {
   "codemirror_mode": {
    "name": "ipython",
    "version": 3
   },
   "file_extension": ".py",
   "mimetype": "text/x-python",
   "name": "python",
   "nbconvert_exporter": "python",
   "pygments_lexer": "ipython3",
   "version": "3.12.1"
  }
 },
 "nbformat": 4,
 "nbformat_minor": 2
}
